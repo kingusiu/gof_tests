{
 "cells": [
  {
   "cell_type": "code",
   "execution_count": 1,
   "metadata": {},
   "outputs": [
    {
     "name": "stdout",
     "output_type": "stream",
     "text": [
      "Welcome to JupyROOT 6.22/00\n"
     ]
    }
   ],
   "source": [
    "import dadrah.analysis.root_plotting_util as rpu\n",
    "import dadrah.util.run_paths as runpa\n",
    "import dadrah.util.string_constants as stco\n",
    "import dadrah.selection.selection_util as seut\n",
    "import pofah.util.sample_factory as sf\n",
    "import pofah.jet_sample as js\n",
    "import pofah.util.utility_fun as utfu\n",
    "import pofah.util.experiment as exp\n",
    "\n",
    "import pathlib\n",
    "import argparse\n",
    "from typing import List\n",
    "\n",
    "import numpy as np\n",
    "import ROOT as rt\n",
    "import root_numpy as rtnp\n",
    "import uuid\n",
    "import os\n",
    "import matplotlib as mpl\n",
    "import matplotlib.pyplot as plt\n",
    "from matplotlib import cm\n",
    "import root_numpy as rtnp\n",
    "import mplhep as hep\n",
    "plt.style.use(hep.style.ROOT)\n",
    "from typing import List"
   ]
  },
  {
   "cell_type": "markdown",
   "metadata": {},
   "source": [
    "## run config params"
   ]
  },
  {
   "cell_type": "code",
   "execution_count": 2,
   "metadata": {},
   "outputs": [],
   "source": [
    "ae_run_n = 113\n",
    "#qr_run_n, qr_model_str = 4, 'poly'\n",
    "#qr_run_n, qr_model_str = 5, 'bernstein'\n",
    "#qr_run_n, qr_model_str = 7, 'dense'\n",
    "#qr_run_n, qr_model_str = 7, 'dense_polyfit'\n",
    "#qr_run_n, qr_model_str = 8, 'dense_70pct_train'\n",
    "qr_run_n, qr_model_str, train_share = 31, 'dense_kfold', 0\n",
    "\n",
    "xsec = 0\n",
    "mX = 3.5\n",
    "sample_id_qcd = 'qcdSigAllTest'+str(int((1-train_share)*100))+'pct' if train_share else 'qcdSigAll'\n",
    "sample_id_sig = 'GtoWW35naReco'\n",
    "sample_ids = [sample_id_qcd, sample_id_sig]\n",
    "#quantiles = [0.1, 0.3, 0.5, 0.7, 0.9, 0.99]\n",
    "quantiles = [0.3, 0.5, 0.7, 0.9]\n",
    "#quantiles = [0.1, 0.5, 0.99]\n",
    "\n",
    "# choose which template quantile to use (0 = 0.9-1.0, 1 = 0.7-0.9)\n",
    "template_q_idx = 0\n",
    "# Set binning\n",
    "dijet_bin = False\n",
    "poly_cut = False"
   ]
  },
  {
   "cell_type": "markdown",
   "metadata": {},
   "source": [
    "## read in data"
   ]
  },
  {
   "cell_type": "code",
   "execution_count": 3,
   "metadata": {},
   "outputs": [],
   "source": [
    "if poly_cut:\n",
    "    paths = runpa.RunPaths(in_data_dir=stco.dir_path_dict['base_dir_qr_selections_poly_cut'], in_data_names=stco.file_name_path_dict, out_data_dir=stco.dir_path_dict['base_dir_qr_analysis'])\n",
    "    path_ext_dict = {'vae_run': str(ae_run_n), 'qr_run': str(qr_run_n), 'sig': sample_ids[1][:-4], 'xsec': str(int(xsec)), 'loss': 'rk5_05', 'order':'5'}\n",
    "else:\n",
    "    paths = runpa.RunPaths(in_data_dir=stco.dir_path_dict['base_dir_qr_selections'], in_data_names=stco.file_name_path_dict, out_data_dir=stco.dir_path_dict['base_dir_qr_analysis'])\n",
    "    path_ext_dict = {'vae_run': str(ae_run_n), 'qr_run': str(qr_run_n), 'sig': sample_ids[1], 'xsec': str(int(xsec)), 'loss': 'rk5_05'}\n",
    "\n",
    "paths.extend_in_path_data(path_ext_dict)\n",
    "paths.extend_out_path_data({**path_ext_dict, 'mjj_spectra': None, 'orthogonal': None})\n",
    "\n",
    "samples = {}\n",
    "\n",
    "for sample_id in sample_ids:\n",
    "    samples[sample_id] = js.JetSample.from_input_file(sample_id, paths.in_file_path(sample_id))"
   ]
  },
  {
   "cell_type": "code",
   "execution_count": 4,
   "metadata": {},
   "outputs": [],
   "source": [
    "samples_ortho_quantiles = seut.divide_sample_into_orthogonal_quantiles(samples[sample_id_qcd], quantiles)\n",
    "\n",
    "mjj_vals = [sample_ortho['mJJ'] for sample_ortho in samples_ortho_quantiles]"
   ]
  },
  {
   "cell_type": "code",
   "execution_count": 5,
   "metadata": {},
   "outputs": [],
   "source": [
    "q_str = [str(q) for q in [0.]+quantiles+[1.]]"
   ]
  },
  {
   "cell_type": "code",
   "execution_count": 6,
   "metadata": {},
   "outputs": [
    {
     "data": {
      "text/plain": [
       "['0.0', '0.3', '0.5', '0.7', '0.9', '1.0']"
      ]
     },
     "execution_count": 6,
     "metadata": {},
     "output_type": "execute_result"
    }
   ],
   "source": [
    "q_str"
   ]
  },
  {
   "cell_type": "code",
   "execution_count": 7,
   "metadata": {},
   "outputs": [
    {
     "data": {
      "text/plain": [
       "5"
      ]
     },
     "execution_count": 7,
     "metadata": {},
     "output_type": "execute_result"
    }
   ],
   "source": [
    "len(mjj_vals)"
   ]
  },
  {
   "cell_type": "code",
   "execution_count": 8,
   "metadata": {},
   "outputs": [
    {
     "name": "stdout",
     "output_type": "stream",
     "text": [
      "9589698\n"
     ]
    }
   ],
   "source": [
    "num_samples = sum(map(len,mjj_vals))\n",
    "print(num_samples)"
   ]
  },
  {
   "cell_type": "code",
   "execution_count": 9,
   "metadata": {},
   "outputs": [],
   "source": [
    "# Dijet variable-binwidth binning (depends on dijet resolution)\n",
    "if dijet_bin:\n",
    "    bin_edges = np.array([1200, 1255, 1320, 1387, 1457, 1529,\n",
    "                          1604, 1681, 1761, 1844, 1930, 2019, \n",
    "                          2111, 2206, 2305, 2406, 2512, 2620, \n",
    "                          2733, 2849, 2969, 3093, 3221, 3353,\n",
    "                          3490, 3632, 3778, 3928, 4084, 4245, \n",
    "                          4411, 4583, 4760, 4943, 5132, 5327]).astype('float')\n",
    "                          #5574, 5737, 5951, 6173, 6402, 6638, 6882]).astype('float')\n",
    "\n",
    "# Constant binwidth\n",
    "else:\n",
    "    bin_edges = np.array(np.arange(1200.,6800., 50.).tolist()).astype('float') #100 GeV binning. Stop at 5600! Fit fails if going to 6800\n",
    "\n",
    "\n",
    "n_bins = len(bin_edges)-1\n",
    "max_bin = bin_edges[-1]\n",
    "min_bin = bin_edges[0]"
   ]
  },
  {
   "cell_type": "code",
   "execution_count": 10,
   "metadata": {},
   "outputs": [],
   "source": [
    "cmap = cm.get_cmap('winter')\n",
    "cmap = [mpl.colors.rgb2hex(c) for c in cmap(np.linspace(0.0, 1.0, len(mjj_vals)+1))][1:]"
   ]
  },
  {
   "cell_type": "markdown",
   "metadata": {},
   "source": [
    "## read data into histograms"
   ]
  },
  {
   "cell_type": "code",
   "execution_count": 24,
   "metadata": {},
   "outputs": [],
   "source": [
    "n_bins = len(bin_edges)-1 #50\n",
    "#min_bin = min([np.min(mjj) for mjj in mjj_vals])\n",
    "#max_bin = max([np.max(mjj) for mjj in mjj_vals])\n",
    "hist_sz = 700\n",
    "marker_sty = 8\n",
    "marker_sz = 0.7"
   ]
  },
  {
   "cell_type": "code",
   "execution_count": 25,
   "metadata": {},
   "outputs": [
    {
     "name": "stderr",
     "output_type": "stream",
     "text": [
      "Warning in <TH1D::Sumw2>: Sum of squares of weights structure already created\n"
     ]
    }
   ],
   "source": [
    "# template / bottom histogram\n",
    "props={'LineColor': rt.kBlack, \"YTitle\": 'num events', \"XTitle\": \"M_{jj} [GeV]\", \"Title\":\"\", \"Minimum\": 0.2, \"Maximum\": num_samples*1.1}\n",
    "ht = rpu.create_hist(mjj_vals[template_q_idx],'',n_bins, bin_edges.astype('float'), props=props)"
   ]
  },
  {
   "cell_type": "code",
   "execution_count": 26,
   "metadata": {},
   "outputs": [
    {
     "name": "stderr",
     "output_type": "stream",
     "text": [
      "Warning in <TH1D::Sumw2>: Sum of squares of weights structure already created\n",
      "Warning in <TH1D::Sumw2>: Sum of squares of weights structure already created\n",
      "Warning in <TH1D::Sumw2>: Sum of squares of weights structure already created\n",
      "Warning in <TH1D::Sumw2>: Sum of squares of weights structure already created\n"
     ]
    }
   ],
   "source": [
    "# other ortho quantile hists\n",
    "hh = []\n",
    "for mjj,c in zip(mjj_vals[template_q_idx+1:], cmap[template_q_idx:]):\n",
    "    props = {\"LineColor\": rt.TColor.GetColor(c), \"MarkerColor\": rt.TColor.GetColor(c), \"LineWidth\": 1, \"MarkerStyle\": marker_sty, \"MarkerSize\": marker_sz}\n",
    "    h = rpu.create_hist(mjj, '', n_bins, bin_edges.astype('float'), props=props)\n",
    "    hh.append(h)"
   ]
  },
  {
   "cell_type": "code",
   "execution_count": 27,
   "metadata": {},
   "outputs": [
    {
     "data": {
      "text/plain": [
       "4"
      ]
     },
     "execution_count": 27,
     "metadata": {},
     "output_type": "execute_result"
    }
   ],
   "source": [
    "len(hh)"
   ]
  },
  {
   "cell_type": "code",
   "execution_count": 28,
   "metadata": {},
   "outputs": [
    {
     "name": "stderr",
     "output_type": "stream",
     "text": [
      "Warning in <TH1D::Sumw2>: Sum of squares of weights structure already created\n",
      "Warning in <TH1D::Sumw2>: Sum of squares of weights structure already created\n",
      "Warning in <TH1D::Sumw2>: Sum of squares of weights structure already created\n",
      "Warning in <TH1D::Sumw2>: Sum of squares of weights structure already created\n"
     ]
    }
   ],
   "source": [
    "# create ratio histograms\n",
    "hr = []\n",
    "for h, c in zip(hh, cmap[template_q_idx:]):\n",
    "    props={\"LineColor\": rt.TColor.GetColor(c), \"MarkerColor\": rt.TColor.GetColor(c), \"Title\": '', \"LineWidth\": 1, \"MarkerStyle\": marker_sty}\n",
    "    r = rpu.create_ratio_hist(h,ht,props=props)\n",
    "    hr.append(r)\n",
    "rpu.set_style(hr[0], props={ \"XTitle\": 'M_{jj} [GeV]', \"YTitle\": \"ratio SIG / BG\"})"
   ]
  },
  {
   "cell_type": "markdown",
   "metadata": {},
   "source": [
    "## draw figure"
   ]
  },
  {
   "cell_type": "code",
   "execution_count": 29,
   "metadata": {},
   "outputs": [],
   "source": [
    "import cmsstyle #mplhep for Python2 cheatsheet\n",
    "c_out, pad1, pad2 = rpu.create_canvas_pads(pad_props={'LeftMargin': 0.13})\n",
    "# legend\n",
    "leg = rpu.create_object(\"TLegend\", 0.62, 0.5, 0.85, 0.78)\n",
    "leg_h = rpu.create_object(\"TLegend\", 0.4, 0.8, 0.95, 0.85) # second legend for header because left align not available\n",
    "rpu.set_style(leg,props={'TextSize': 0.045})\n",
    "rpu.set_style(leg_h,props={'TextSize': 0.045})"
   ]
  },
  {
   "cell_type": "code",
   "execution_count": 30,
   "metadata": {},
   "outputs": [
    {
     "data": {
      "text/plain": [
       "<cppyy.gbl.TLegendEntry object at 0x7422d70>"
      ]
     },
     "execution_count": 30,
     "metadata": {},
     "output_type": "execute_result"
    }
   ],
   "source": [
    "pad1.cd()\n",
    "# draw template histogram\n",
    "ht.Draw('HIST')\n",
    "rpu.set_style(ht.GetYaxis(), props={'TitleSize':0.05, 'LabelSize':0.05, 'TitleOffset':0.95, 'Ndivisions':304})\n",
    "leg.AddEntry(ht, 'q = '+q_str[template_q_idx+1]+'-'+q_str[template_q_idx], 'lep')"
   ]
  },
  {
   "cell_type": "code",
   "execution_count": 31,
   "metadata": {},
   "outputs": [],
   "source": [
    "# draw remaining histograms\n",
    "for h in hh:\n",
    "    h.Draw('pez same')\n",
    "ht.Draw('hist same') # draw once more on top"
   ]
  },
  {
   "cell_type": "code",
   "execution_count": 32,
   "metadata": {},
   "outputs": [],
   "source": [
    "for h, qi, qii in zip(hh, q_str[template_q_idx+2:], q_str[template_q_idx+1:]):\n",
    "    leg.AddEntry(h, 'q = {} - {}'.format(qi,qii), 'lep')\n",
    "\n",
    "leg_h.SetHeader(r'Data: QCD MC + G_{RS}(%.1fTeV,#sigma=%i fb)'%(mX,xsec))\n",
    "leg.Draw()\n",
    "leg_h.Draw()"
   ]
  },
  {
   "cell_type": "code",
   "execution_count": 33,
   "metadata": {},
   "outputs": [],
   "source": [
    "pad2.cd()\n",
    "hr[0].Draw('pe')\n",
    "ratio_min, ratio_max = 0.6, 1.4\n",
    "props={'YTitle':'#frac{#epsilon#timesq}{q_{0.3-0.0}}', 'XTitle':'M_{jj} (GeV)', 'Maximum':ratio_max, 'Minimum':ratio_min, 'TitleOffset':0.4}\n",
    "rpu.set_style(hr[0],props=props)\n",
    "rpu.set_style(hr[0].GetYaxis(),props={'TitleSize':0.12, 'LabelSize':0.12, 'Ndivisions':304, 'TitleOffset':0.4 })\n",
    "rpu.set_style(hr[0].GetXaxis(),props={'TitleSize':0.12, 'LabelSize':0.12, 'Ndivisions':304, 'TitleOffset':0.95, 'Ndivisions':909, 'TickSize':0.07 })\n",
    "hr[0].GetYaxis().CenterTitle()\n",
    "\n",
    "for r in hr[1:]:\n",
    "    r.Draw('pe same')"
   ]
  },
  {
   "cell_type": "code",
   "execution_count": 34,
   "metadata": {},
   "outputs": [],
   "source": [
    "eff_line = rpu.create_ratio_line(hr[0])\n",
    "eff_line.Draw('same')"
   ]
  },
  {
   "cell_type": "code",
   "execution_count": 35,
   "metadata": {},
   "outputs": [
    {
     "data": {
      "image/png": "[encoded data removed]",
      "text/plain": [
       "<IPython.core.display.Image object>"
      ]
     },
     "metadata": {},
     "output_type": "display_data"
    }
   ],
   "source": [
    "c_out.Draw()"
   ]
  },
  {
   "cell_type": "code",
   "execution_count": 23,
   "metadata": {},
   "outputs": [
    {
     "name": "stderr",
     "output_type": "stream",
     "text": [
      "Info in <TCanvas::Print>: pdf file fig/mjj_ratio_xsec0_dense_kfold_linspace_binning_q03_q00_template.pdf has been created\n"
     ]
    }
   ],
   "source": [
    "template_str = ('q'+q_str[template_q_idx+1]+'_q'+q_str[template_q_idx]).replace('.', '')\n",
    "c_out.SaveAs('fig/mjj_ratio_xsec0_{}_{}_binning_{}_template.pdf'.format(qr_model_str, 'dijet' if dijet_bin else 'linspace', template_str))"
   ]
  },
  {
   "cell_type": "code",
   "execution_count": null,
   "metadata": {},
   "outputs": [],
   "source": []
  }
 ],
 "metadata": {
  "kernelspec": {
   "display_name": "Python 3",
   "language": "python",
   "name": "python3"
  },
  "language_info": {
   "codemirror_mode": {
    "name": "ipython",
    "version": 3
   },
   "file_extension": ".py",
   "mimetype": "text/x-python",
   "name": "python",
   "nbconvert_exporter": "python",
   "pygments_lexer": "ipython3",
   "version": "3.7.6"
  }
 },
 "nbformat": 4,
 "nbformat_minor": 2
}
