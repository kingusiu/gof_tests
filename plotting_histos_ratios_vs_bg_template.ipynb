{
 "cells": [
  {
   "cell_type": "code",
   "execution_count": 1,
   "metadata": {},
   "outputs": [
    {
     "name": "stdout",
     "output_type": "stream",
     "text": [
      "Welcome to JupyROOT 6.22/00\n"
     ]
    }
   ],
   "source": [
    "import dadrah.analysis.root_plotting_util as rpu\n",
    "import dadrah.util.run_paths as runpa\n",
    "import dadrah.util.string_constants as stco\n",
    "import dadrah.selection.selection_util as seut\n",
    "import pofah.util.sample_factory as sf\n",
    "import pofah.jet_sample as js\n",
    "import pofah.util.utility_fun as utfu\n",
    "import pofah.util.experiment as exp\n",
    "import dadrah.kfold_pipeline.kfold_util as kutil\n",
    "import dadrah.kfold_pipeline.kfold_string_constants as kstco\n",
    "\n",
    "import pathlib\n",
    "import argparse\n",
    "from typing import List\n",
    "\n",
    "import numpy as np\n",
    "import ROOT as rt\n",
    "import root_numpy as rtnp\n",
    "import uuid\n",
    "import os\n",
    "import matplotlib as mpl\n",
    "import matplotlib.pyplot as plt\n",
    "from matplotlib import cm\n",
    "import root_numpy as rtnp\n",
    "import mplhep as hep\n",
    "plt.style.use(hep.style.ROOT)\n",
    "from typing import List\n",
    "from recordtype import recordtype"
   ]
  },
  {
   "cell_type": "markdown",
   "metadata": {},
   "source": [
    "## run config params"
   ]
  },
  {
   "cell_type": "code",
   "execution_count": 2,
   "metadata": {},
   "outputs": [],
   "source": [
    "Parameters = recordtype('Parameters','qr_run_n, quantiles, qcd_sample_id, sig_sample_id, sig_xsec, score_strategy_id, read_n, binning, env_run_n, poly_run_n')\n",
    "params = Parameters(qr_run_n=408,\n",
    "                    quantiles=[0.3, 0.5, 0.7, 0.9],\n",
    "                    qcd_sample_id='qcdSigAll', \n",
    "                    sig_sample_id='GtoWW35naReco',\n",
    "                    sig_xsec=0,\n",
    "                    score_strategy_id='rk5_05',\n",
    "                    read_n=None,\n",
    "                    binning='dijet',\n",
    "                    env_run_n=0,\n",
    "                    poly_run_n=0,\n",
    "                    )\n",
    "\n",
    "ae_run_n = 113\n",
    "#qr_run_n, qr_model_str = 4, 'poly'\n",
    "#qr_run_n, qr_model_str = 5, 'bernstein'\n",
    "#qr_run_n, qr_model_str = 7, 'dense'\n",
    "#qr_run_n, qr_model_str = 7, 'dense_polyfit'\n",
    "#qr_run_n, qr_model_str = 8, 'dense_70pct_train'\n",
    "#qr_run_n, qr_model_str, train_share = 31, 'dense_kfold', 0\n",
    "#qr_run_n, qr_model_str, train_share = 34, 'dense_kfold_lmfit11', 0 # => current best\n",
    "#qr_run_n, qr_model_str, train_share = 189, 'dense_kfold_binned_ratio', 0\n",
    "#qr_run_n, qr_model_str, train_share = 191, 'dense_kfold_global_ratio', 0\n",
    "qr_model_str, train_share = '_'.join(['kfold',str(params.qr_run_n),str(params.env_run_n),str(params.poly_run_n)]), 0\n",
    "\n",
    "xsec = 0\n",
    "mX = 3.5\n",
    "sample_id_qcd = 'qcdSigAllTest'+str(int((1-train_share)*100))+'pct' if train_share else 'qcdSigAll'\n",
    "sample_id_sig = 'GtoWW35naReco'\n",
    "sample_ids = [sample_id_qcd, sample_id_sig]\n",
    "#quantiles = [0.1, 0.3, 0.5, 0.7, 0.9, 0.99]\n",
    "#quantiles = [0.3, 0.5, 0.7, 0.9]\n",
    "#quantiles = [0.5, 0.9]\n",
    "#quantiles = [0.1, 0.5, 0.99]\n",
    "\n",
    "# choose which template quantile to use (0 = 0.9-1.0, 1 = 0.7-0.9)\n",
    "template_q_idx = 0\n",
    "poly_cut = True\n",
    "\n",
    "# paths\n",
    "input_path = kstco.get_polynomials_out_data_dir(params)\n",
    "fig_dir = 'fig/qr_run_'+str(int(params.qr_run_n))+'/env_run_'+str(int(params.env_run_n))+'/poly_run_'+str(int(params.poly_run_n))\n",
    "pathlib.Path(fig_dir).mkdir(parents=True, exist_ok=True)"
   ]
  },
  {
   "cell_type": "markdown",
   "metadata": {},
   "source": [
    "## read in data"
   ]
  },
  {
   "cell_type": "code",
   "execution_count": 3,
   "metadata": {},
   "outputs": [
    {
     "name": "stdout",
     "output_type": "stream",
     "text": [
      "read 11985958 qcdSigAll samples from /eos/user/k/kiwoznia/data/QR_results/events/qr_run_408/env_run_0/poly_run_0/qcdSigAll.h5\n",
      "read 531825 GtoWW35naReco samples from /eos/user/k/kiwoznia/data/QR_results/events/qr_run_408/env_run_0/poly_run_0/GtoWW35naReco.h5\n"
     ]
    }
   ],
   "source": [
    "# old paths:\n",
    "# if poly_cut:\n",
    "#     paths = runpa.RunPaths(in_data_dir=stco.dir_path_dict['base_dir_qr_selections_poly_cut'], in_data_names=stco.file_name_path_dict, out_data_dir=stco.dir_path_dict['base_dir_qr_analysis'])\n",
    "#     path_ext_dict = {'vae_run': str(ae_run_n), 'qr_run': str(qr_run_n), 'sig': sample_ids[1][:-4], 'xsec': str(int(xsec)), 'loss': 'rk5_05', 'order':'5'}\n",
    "# else:\n",
    "#     paths = runpa.RunPaths(in_data_dir=stco.dir_path_dict['base_dir_qr_selections'], in_data_names=stco.file_name_path_dict, out_data_dir=stco.dir_path_dict['base_dir_qr_analysis'])\n",
    "#     path_ext_dict = {'vae_run': str(ae_run_n), 'qr_run': str(qr_run_n), 'sig': sample_ids[1], 'xsec': str(int(xsec)), 'loss': 'rk5_05'}\n",
    "\n",
    "# paths.extend_in_path_data(path_ext_dict)\n",
    "# paths.extend_out_path_data({**path_ext_dict, 'mjj_spectra': None, 'orthogonal': None})\n",
    "\n",
    "\n",
    "samples = {}\n",
    "\n",
    "for sample_id in sample_ids:\n",
    "    in_path = os.path.join(input_path,sample_id+'.h5') #paths.in_file_path(sample_id)\n",
    "    samples[sample_id] = js.JetSample.from_input_file(sample_id, in_path)\n",
    "    print('read ' + str(len(samples[sample_id])) + ' ' + sample_id + ' samples from ' + in_path)"
   ]
  },
  {
   "cell_type": "code",
   "execution_count": 4,
   "metadata": {},
   "outputs": [],
   "source": [
    "samples_ortho_quantiles = seut.divide_sample_into_orthogonal_quantiles(samples[sample_id_qcd], params.quantiles)\n",
    "\n",
    "mjj_vals = [sample_ortho['mJJ'] for sample_ortho in samples_ortho_quantiles]"
   ]
  },
  {
   "cell_type": "code",
   "execution_count": 5,
   "metadata": {},
   "outputs": [],
   "source": [
    "q_str = [str(q) for q in [0.]+params.quantiles+[1.]]"
   ]
  },
  {
   "cell_type": "code",
   "execution_count": 6,
   "metadata": {},
   "outputs": [
    {
     "data": {
      "text/plain": [
       "['0.0', '0.3', '0.5', '0.7', '0.9', '1.0']"
      ]
     },
     "execution_count": 6,
     "metadata": {},
     "output_type": "execute_result"
    }
   ],
   "source": [
    "q_str"
   ]
  },
  {
   "cell_type": "code",
   "execution_count": 7,
   "metadata": {},
   "outputs": [
    {
     "data": {
      "text/plain": [
       "5"
      ]
     },
     "execution_count": 7,
     "metadata": {},
     "output_type": "execute_result"
    }
   ],
   "source": [
    "len(mjj_vals)"
   ]
  },
  {
   "cell_type": "code",
   "execution_count": 8,
   "metadata": {},
   "outputs": [
    {
     "name": "stdout",
     "output_type": "stream",
     "text": [
      "11985958\n"
     ]
    }
   ],
   "source": [
    "num_samples = sum(map(len,mjj_vals))\n",
    "print(num_samples)"
   ]
  },
  {
   "cell_type": "code",
   "execution_count": 9,
   "metadata": {},
   "outputs": [
    {
     "name": "stdout",
     "output_type": "stream",
     "text": [
      "0.0-0.3: 3593359 (0.300)\n",
      "0.3-0.5: 2404052 (0.201)\n",
      "0.5-0.7: 2379226 (0.199)\n",
      "0.7-0.9: 2411412 (0.201)\n",
      "0.9-1.0: 1197909 (0.100)\n"
     ]
    }
   ],
   "source": [
    "for q_i, q_ii, mjj in zip(q_str[:-1], q_str[1:], mjj_vals):\n",
    "    print(q_i + '-'+ q_ii + ': ' + str(len(mjj)) + ' ({:.3f})'.format(len(mjj)/num_samples))"
   ]
  },
  {
   "cell_type": "code",
   "execution_count": 10,
   "metadata": {},
   "outputs": [
    {
     "data": {
      "text/plain": [
       "Parameters(qr_run_n=408, quantiles=[0.3, 0.5, 0.7, 0.9], qcd_sample_id='qcdSigAll', sig_sample_id='GtoWW35naReco', sig_xsec=0, score_strategy_id='rk5_05', read_n=None, binning='dijet', env_run_n=0, poly_run_n=0)"
      ]
     },
     "execution_count": 10,
     "metadata": {},
     "output_type": "execute_result"
    }
   ],
   "source": [
    "params"
   ]
  },
  {
   "cell_type": "code",
   "execution_count": 11,
   "metadata": {},
   "outputs": [
    {
     "name": "stdout",
     "output_type": "stream",
     "text": [
      "min_mjj=1200.0, max_mjj=6800.0\n",
      "bin edges\n",
      "[1287.5 1353.5 1422.  1493.  1566.5 1642.5 1721.  1802.5 1887.  1974.5\n",
      " 2065.  2158.5 2255.5 2355.5 2459.  2566.  2676.5 2791.  2909.  3031.\n",
      " 3157.  3287.  3421.5 3561.  3705.  3853.  4006.  4164.5 4328.  4497.\n",
      " 4671.5 4851.5 5037.5 5229.5 5450.5 5655.5 5844.  6062.  6287.5 6520.\n",
      " 6760. ]\n"
     ]
    }
   ],
   "source": [
    "min_mjj = 1200.\n",
    "max_mjj = 6800. #5600\n",
    "bin_edges = kutil.get_bins_from_envelope(params)\n",
    "bin_edges = bin_edges[(bin_edges>=min_mjj) & (bin_edges<=max_mjj)]\n",
    "\n",
    "print('min_mjj='+str(min_mjj) + ', max_mjj='+str(max_mjj))\n",
    "print('bin edges')\n",
    "print(bin_edges)\n",
    "\n",
    "n_bins = len(bin_edges)-1\n",
    "max_bin = bin_edges[-1]\n",
    "min_bin = bin_edges[0]"
   ]
  },
  {
   "cell_type": "code",
   "execution_count": 12,
   "metadata": {},
   "outputs": [],
   "source": [
    "cmap = cm.get_cmap('winter')\n",
    "cmap = [mpl.colors.rgb2hex(c) for c in cmap(np.linspace(0.0, 1.0, len(mjj_vals)+1))][1:]"
   ]
  },
  {
   "cell_type": "markdown",
   "metadata": {},
   "source": [
    "## read data into histograms"
   ]
  },
  {
   "cell_type": "code",
   "execution_count": 13,
   "metadata": {},
   "outputs": [],
   "source": [
    "n_bins = len(bin_edges)-1 #50\n",
    "#min_bin = min([np.min(mjj) for mjj in mjj_vals])\n",
    "#max_bin = max([np.max(mjj) for mjj in mjj_vals])\n",
    "hist_sz = 700\n",
    "marker_sty = 8\n",
    "marker_sz = 0.7"
   ]
  },
  {
   "cell_type": "code",
   "execution_count": 14,
   "metadata": {},
   "outputs": [
    {
     "name": "stderr",
     "output_type": "stream",
     "text": [
      "Warning in <TH1D::Sumw2>: Sum of squares of weights structure already created\n"
     ]
    }
   ],
   "source": [
    "# template / bottom histogram\n",
    "props={'LineColor': rt.kBlack, \"YTitle\": 'num events', \"XTitle\": \"M_{jj} [GeV]\", \"Title\":\"\", \"Minimum\": 0.2, \"Maximum\": num_samples*1.1}\n",
    "ht = rpu.create_hist(mjj_vals[template_q_idx],'',n_bins, bin_edges.astype('float'), props=props)"
   ]
  },
  {
   "cell_type": "code",
   "execution_count": 15,
   "metadata": {},
   "outputs": [
    {
     "name": "stderr",
     "output_type": "stream",
     "text": [
      "Warning in <TH1D::Sumw2>: Sum of squares of weights structure already created\n",
      "Warning in <TH1D::Sumw2>: Sum of squares of weights structure already created\n",
      "Warning in <TH1D::Sumw2>: Sum of squares of weights structure already created\n",
      "Warning in <TH1D::Sumw2>: Sum of squares of weights structure already created\n"
     ]
    }
   ],
   "source": [
    "# other ortho quantile hists\n",
    "hh = []\n",
    "for mjj,c in zip(mjj_vals[template_q_idx+1:], cmap[template_q_idx:]):\n",
    "    props = {\"LineColor\": rt.TColor.GetColor(c), \"MarkerColor\": rt.TColor.GetColor(c), \"LineWidth\": 1, \"MarkerStyle\": marker_sty, \"MarkerSize\": marker_sz}\n",
    "    h = rpu.create_hist(mjj, '', n_bins, bin_edges.astype('float'), props=props)\n",
    "    hh.append(h)"
   ]
  },
  {
   "cell_type": "code",
   "execution_count": 16,
   "metadata": {},
   "outputs": [
    {
     "data": {
      "text/plain": [
       "4"
      ]
     },
     "execution_count": 16,
     "metadata": {},
     "output_type": "execute_result"
    }
   ],
   "source": [
    "len(hh)"
   ]
  },
  {
   "cell_type": "code",
   "execution_count": 17,
   "metadata": {},
   "outputs": [
    {
     "name": "stderr",
     "output_type": "stream",
     "text": [
      "Warning in <TH1D::Sumw2>: Sum of squares of weights structure already created\n",
      "Warning in <TH1D::Sumw2>: Sum of squares of weights structure already created\n",
      "Warning in <TH1D::Sumw2>: Sum of squares of weights structure already created\n",
      "Warning in <TH1D::Sumw2>: Sum of squares of weights structure already created\n"
     ]
    }
   ],
   "source": [
    "# create ratio histograms\n",
    "hr = []\n",
    "for h, c in zip(hh, cmap[template_q_idx:]):\n",
    "    props={\"LineColor\": rt.TColor.GetColor(c), \"MarkerColor\": rt.TColor.GetColor(c), \"Title\": '', \"LineWidth\": 1, \"MarkerStyle\": marker_sty}\n",
    "    r = rpu.create_ratio_hist(h,ht,props=props)\n",
    "    hr.append(r)\n",
    "rpu.set_style(hr[0], props={ \"XTitle\": 'M_{jj} [GeV]', \"YTitle\": \"ratio SIG / BG\"})"
   ]
  },
  {
   "cell_type": "markdown",
   "metadata": {},
   "source": [
    "## draw figure"
   ]
  },
  {
   "cell_type": "code",
   "execution_count": 18,
   "metadata": {},
   "outputs": [],
   "source": [
    "import cmsstyle #mplhep for Python2 cheatsheet\n",
    "c_out, pad1, pad2 = rpu.create_canvas_pads(pad_props={'LeftMargin': 0.13})\n",
    "# legend\n",
    "leg = rpu.create_object(\"TLegend\", 0.62, 0.5, 0.85, 0.78)\n",
    "leg_h = rpu.create_object(\"TLegend\", 0.4, 0.8, 0.95, 0.85) # second legend for header because left align not available\n",
    "rpu.set_style(leg,props={'TextSize': 0.045})\n",
    "rpu.set_style(leg_h,props={'TextSize': 0.045})"
   ]
  },
  {
   "cell_type": "code",
   "execution_count": 19,
   "metadata": {},
   "outputs": [
    {
     "data": {
      "text/plain": [
       "<cppyy.gbl.TLegendEntry object at 0xc3fe7f0>"
      ]
     },
     "execution_count": 19,
     "metadata": {},
     "output_type": "execute_result"
    }
   ],
   "source": [
    "pad1.cd()\n",
    "# draw template histogram\n",
    "ht.Draw('HIST')\n",
    "rpu.set_style(ht.GetYaxis(), props={'TitleSize':0.05, 'LabelSize':0.05, 'TitleOffset':0.95, 'Ndivisions':304})\n",
    "leg.AddEntry(ht, 'q = '+q_str[template_q_idx+1]+'-'+q_str[template_q_idx], 'lep')"
   ]
  },
  {
   "cell_type": "code",
   "execution_count": 20,
   "metadata": {},
   "outputs": [],
   "source": [
    "# draw remaining histograms\n",
    "for h in hh:\n",
    "    h.Draw('pez same')\n",
    "ht.Draw('hist same') # draw once more on top"
   ]
  },
  {
   "cell_type": "code",
   "execution_count": 21,
   "metadata": {},
   "outputs": [],
   "source": [
    "for h, qi, qii in zip(hh, q_str[template_q_idx+2:], q_str[template_q_idx+1:]):\n",
    "    leg.AddEntry(h, 'q = {} - {}'.format(qi,qii), 'lep')\n",
    "\n",
    "leg_h.SetHeader(r'Data: QCD MC + G_{RS}(%.1fTeV,#sigma=%i fb)'%(mX,xsec))\n",
    "leg.Draw()\n",
    "leg_h.Draw()"
   ]
  },
  {
   "cell_type": "code",
   "execution_count": 22,
   "metadata": {},
   "outputs": [],
   "source": [
    "pad2.cd()\n",
    "hr[0].Draw('pe')\n",
    "ratio_min, ratio_max = 0.8, 1.2\n",
    "props={'YTitle':'#frac{#epsilon#timesq}{q_{0.3-0.0}}', 'XTitle':'M_{jj} (GeV)', 'Maximum':ratio_max, 'Minimum':ratio_min, 'TitleOffset':0.4}\n",
    "rpu.set_style(hr[0],props=props)\n",
    "rpu.set_style(hr[0].GetYaxis(),props={'TitleSize':0.12, 'LabelSize':0.12, 'Ndivisions':304, 'TitleOffset':0.4 })\n",
    "rpu.set_style(hr[0].GetXaxis(),props={'TitleSize':0.12, 'LabelSize':0.12, 'Ndivisions':304, 'TitleOffset':0.95, 'Ndivisions':909, 'TickSize':0.07 })\n",
    "hr[0].GetYaxis().CenterTitle()\n",
    "\n",
    "for r in hr[1:]:\n",
    "    r.Draw('pe same')"
   ]
  },
  {
   "cell_type": "code",
   "execution_count": 23,
   "metadata": {},
   "outputs": [],
   "source": [
    "eff_line = rpu.create_ratio_line(hr[0])\n",
    "eff_line.Draw('same')"
   ]
  },
  {
   "cell_type": "code",
   "execution_count": 24,
   "metadata": {},
   "outputs": [
    {
     "data": {
      "image/png": "[encoded data removed]",
      "text/plain": [
       "<IPython.core.display.Image object>"
      ]
     },
     "metadata": {},
     "output_type": "display_data"
    }
   ],
   "source": [
    "c_out.Draw()"
   ]
  },
  {
   "cell_type": "code",
   "execution_count": 90,
   "metadata": {},
   "outputs": [
    {
     "ename": "NameError",
     "evalue": "name 'dijet_binning' is not defined",
     "output_type": "error",
     "traceback": [
      "\u001b[0;31m---------------------------------------------------------------------------\u001b[0m",
      "\u001b[0;31mNameError\u001b[0m                                 Traceback (most recent call last)",
      "\u001b[0;32m<ipython-input-90-e48324410cfd>\u001b[0m in \u001b[0;36m<module>\u001b[0;34m\u001b[0m\n\u001b[1;32m      1\u001b[0m \u001b[0mtemplate_str\u001b[0m \u001b[0;34m=\u001b[0m \u001b[0;34m(\u001b[0m\u001b[0;34m'q'\u001b[0m\u001b[0;34m+\u001b[0m\u001b[0mq_str\u001b[0m\u001b[0;34m[\u001b[0m\u001b[0mtemplate_q_idx\u001b[0m\u001b[0;34m+\u001b[0m\u001b[0;36m1\u001b[0m\u001b[0;34m]\u001b[0m\u001b[0;34m+\u001b[0m\u001b[0;34m'_q'\u001b[0m\u001b[0;34m+\u001b[0m\u001b[0mq_str\u001b[0m\u001b[0;34m[\u001b[0m\u001b[0mtemplate_q_idx\u001b[0m\u001b[0;34m]\u001b[0m\u001b[0;34m)\u001b[0m\u001b[0;34m.\u001b[0m\u001b[0mreplace\u001b[0m\u001b[0;34m(\u001b[0m\u001b[0;34m'.'\u001b[0m\u001b[0;34m,\u001b[0m \u001b[0;34m''\u001b[0m\u001b[0;34m)\u001b[0m\u001b[0;34m\u001b[0m\u001b[0;34m\u001b[0m\u001b[0m\n\u001b[0;32m----> 2\u001b[0;31m \u001b[0mc_out\u001b[0m\u001b[0;34m.\u001b[0m\u001b[0mSaveAs\u001b[0m\u001b[0;34m(\u001b[0m\u001b[0mfig_dir\u001b[0m\u001b[0;34m+\u001b[0m\u001b[0;34m'/mjj_ratio_xsec0_{}_{}_binning_{}_template.pdf'\u001b[0m\u001b[0;34m.\u001b[0m\u001b[0mformat\u001b[0m\u001b[0;34m(\u001b[0m\u001b[0mqr_model_str\u001b[0m\u001b[0;34m,\u001b[0m \u001b[0;34m'dijet'\u001b[0m \u001b[0;32mif\u001b[0m \u001b[0mdijet_binning\u001b[0m \u001b[0;32melse\u001b[0m \u001b[0;34m'linspace'\u001b[0m\u001b[0;34m,\u001b[0m \u001b[0mtemplate_str\u001b[0m\u001b[0;34m)\u001b[0m\u001b[0;34m)\u001b[0m\u001b[0;34m\u001b[0m\u001b[0;34m\u001b[0m\u001b[0m\n\u001b[0m",
      "\u001b[0;31mNameError\u001b[0m: name 'dijet_binning' is not defined"
     ]
    }
   ],
   "source": [
    "template_str = ('q'+q_str[template_q_idx+1]+'_q'+q_str[template_q_idx]).replace('.', '')\n",
    "c_out.SaveAs(fig_dir+'/mjj_ratio_qr{}_xsec{}_env{}_poly{}_template.pdf'.format(params.qr_run_n,params.sig_xsec,params.env_run_n, params.poly_run_n))"
   ]
  },
  {
   "cell_type": "code",
   "execution_count": null,
   "metadata": {},
   "outputs": [],
   "source": []
  }
 ],
 "metadata": {
  "kernelspec": {
   "display_name": "Python 3",
   "language": "python",
   "name": "python3"
  },
  "language_info": {
   "codemirror_mode": {
    "name": "ipython",
    "version": 3
   },
   "file_extension": ".py",
   "mimetype": "text/x-python",
   "name": "python",
   "nbconvert_exporter": "python",
   "pygments_lexer": "ipython3",
   "version": "3.7.6"
  }
 },
 "nbformat": 4,
 "nbformat_minor": 2
}
