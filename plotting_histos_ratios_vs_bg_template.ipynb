{
 "cells": [
  {
   "cell_type": "code",
   "execution_count": 1,
   "metadata": {},
   "outputs": [
    {
     "name": "stdout",
     "output_type": "stream",
     "text": [
      "Welcome to JupyROOT 6.18/04\n"
     ]
    }
   ],
   "source": [
    "import dadrah.analysis.root_plotting_util as rpu\n",
    "import dadrah.util.run_paths as runpa\n",
    "import dadrah.util.string_constants as stco\n",
    "import dadrah.selection.selection_util as seut\n",
    "import pofah.util.sample_factory as sf\n",
    "import pofah.jet_sample as js\n",
    "import pofah.util.utility_fun as utfu\n",
    "import pofah.util.experiment as exp\n",
    "\n",
    "import pathlib\n",
    "import argparse\n",
    "from typing import List\n",
    "\n",
    "import numpy as np\n",
    "import ROOT as rt\n",
    "import root_numpy as rtnp\n",
    "import uuid\n",
    "import os\n",
    "import matplotlib as mpl\n",
    "import matplotlib.pyplot as plt\n",
    "from matplotlib import cm\n",
    "import root_numpy as rtnp\n",
    "import mplhep as hep\n",
    "plt.style.use(hep.style.ROOT)\n",
    "from typing import List"
   ]
  },
  {
   "cell_type": "markdown",
   "metadata": {},
   "source": [
    "## run config params"
   ]
  },
  {
   "cell_type": "code",
   "execution_count": 27,
   "metadata": {},
   "outputs": [],
   "source": [
    "ae_run_n = 113\n",
    "qr_run_n, qr_model_str = 4, 'poly'\n",
    "#qr_run_n, qr_model_str = 5, 'bernstein'\n",
    "xsec = 0\n",
    "mX = 3.5\n",
    "sample_ids = ['qcdSigAllTestReco', 'GtoWW35naReco']\n",
    "sample_id_qcd = sample_ids[0]\n",
    "#quantiles = [0.1, 0.3, 0.5, 0.7, 0.9, 0.99]\n",
    "quantiles = [0.3, 0.5, 0.7, 0.9, 0.99]\n",
    "#quantiles = [0.1, 0.5, 0.99]\n",
    "path_ext_dict = {'vae_run': str(ae_run_n), 'qr_run': str(qr_run_n), 'sig': sample_ids[1], 'xsec': str(int(xsec)), 'loss': 'rk5_05'}\n",
    "\n",
    "# choose which template quantile to use (0 = 0.9-1.0, 1 = 0.7-0.9)\n",
    "template_q_idx = 0\n",
    "# Set binning\n",
    "dijet_bin = True"
   ]
  },
  {
   "cell_type": "markdown",
   "metadata": {},
   "source": [
    "## read in data"
   ]
  },
  {
   "cell_type": "code",
   "execution_count": 28,
   "metadata": {},
   "outputs": [],
   "source": [
    "paths = runpa.RunPaths(in_data_dir=stco.dir_path_dict['base_dir_qr_selections'], in_data_names=stco.file_name_path_dict, out_data_dir=stco.dir_path_dict['base_dir_qr_analysis'])\n",
    "paths.extend_in_path_data(path_ext_dict)\n",
    "paths.extend_out_path_data({**path_ext_dict, 'mjj_spectra': None, 'orthogonal': None})\n",
    "\n",
    "samples = {}\n",
    "\n",
    "for sample_id in sample_ids:\n",
    "    samples[sample_id] = js.JetSample.from_input_file(sample_id, paths.in_file_path(sample_id))"
   ]
  },
  {
   "cell_type": "code",
   "execution_count": 29,
   "metadata": {},
   "outputs": [],
   "source": [
    "samples_ortho_quantiles = seut.divide_sample_into_orthogonal_quantiles(samples[sample_id_qcd], quantiles)\n",
    "\n",
    "mjj_vals = [sample_ortho['mJJ'] for sample_ortho in samples_ortho_quantiles]"
   ]
  },
  {
   "cell_type": "code",
   "execution_count": 30,
   "metadata": {},
   "outputs": [],
   "source": [
    "quantiles_inv = [round((1.-q),2) for q in [0]+quantiles+[1.]] # invert quantiles to [1.0 0.9, 0.7, 0.5, 0.3, 0.1, 0.01]\n",
    "q_str = [str(q) for q in quantiles_inv]"
   ]
  },
  {
   "cell_type": "code",
   "execution_count": 31,
   "metadata": {},
   "outputs": [
    {
     "data": {
      "text/plain": [
       "[1.0, 0.7, 0.5, 0.3, 0.1, 0.01, 0.0]"
      ]
     },
     "execution_count": 31,
     "metadata": {},
     "output_type": "execute_result"
    }
   ],
   "source": [
    "quantiles_inv"
   ]
  },
  {
   "cell_type": "code",
   "execution_count": 32,
   "metadata": {},
   "outputs": [
    {
     "data": {
      "text/plain": [
       "6"
      ]
     },
     "execution_count": 32,
     "metadata": {},
     "output_type": "execute_result"
    }
   ],
   "source": [
    "len(mjj_vals)"
   ]
  },
  {
   "cell_type": "code",
   "execution_count": 33,
   "metadata": {},
   "outputs": [
    {
     "name": "stdout",
     "output_type": "stream",
     "text": [
      "7671759\n"
     ]
    }
   ],
   "source": [
    "num_samples = sum(map(len,mjj_vals))\n",
    "print(num_samples)"
   ]
  },
  {
   "cell_type": "code",
   "execution_count": 34,
   "metadata": {},
   "outputs": [],
   "source": [
    "# Dijet variable-binwidth binning (depends on dijet resolution)\n",
    "if dijet_bin:\n",
    "    bin_edges = np.array([1200, 1255, 1320, 1387, 1457, 1529,\n",
    "                          1604, 1681, 1761, 1844, 1930, 2019, \n",
    "                          2111, 2206, 2305, 2406, 2512, 2620, \n",
    "                          2733, 2849, 2969, 3093, 3221, 3353,\n",
    "                          3490, 3632, 3778, 3928, 4084, 4245, \n",
    "                          4411, 4583, 4760, 4943, 5132, 5327]).astype('float')\n",
    "                          #5574, 5737, 5951, 6173, 6402, 6638, 6882]).astype('float')\n",
    "\n",
    "# Constant binwidth\n",
    "else:\n",
    "    bin_edges = np.array(np.arange(1200.,6800., 50.).tolist()).astype('float') #100 GeV binning. Stop at 5600! Fit fails if going to 6800\n",
    "\n",
    "\n",
    "n_bins = len(bin_edges)-1\n",
    "max_bin = bin_edges[-1]\n",
    "min_bin = bin_edges[0]"
   ]
  },
  {
   "cell_type": "code",
   "execution_count": 35,
   "metadata": {},
   "outputs": [],
   "source": [
    "cmap = cm.get_cmap('winter')\n",
    "cmap = [mpl.colors.rgb2hex(c) for c in cmap(np.linspace(0.0, 1.0, len(mjj_vals)+1))][1:]"
   ]
  },
  {
   "cell_type": "markdown",
   "metadata": {},
   "source": [
    "## read data into histograms"
   ]
  },
  {
   "cell_type": "code",
   "execution_count": 36,
   "metadata": {},
   "outputs": [],
   "source": [
    "n_bins = len(bin_edges)-1 #50\n",
    "#min_bin = min([np.min(mjj) for mjj in mjj_vals])\n",
    "#max_bin = max([np.max(mjj) for mjj in mjj_vals])\n",
    "hist_sz = 700\n",
    "marker_sty = 8\n",
    "marker_sz = 0.9"
   ]
  },
  {
   "cell_type": "code",
   "execution_count": 37,
   "metadata": {},
   "outputs": [
    {
     "name": "stderr",
     "output_type": "stream",
     "text": [
      "Warning in <TH1D::Sumw2>: Sum of squares of weights structure already created\n"
     ]
    }
   ],
   "source": [
    "# template / bottom histogram\n",
    "props={'LineColor': rt.kBlack, \"YTitle\": 'num events', \"XTitle\": \"M_{jj} [GeV]\", \"Title\":\"\", \"Minimum\": 0.2, \"Maximum\": num_samples*1.1}\n",
    "ht = rpu.create_hist(mjj_vals[template_q_idx],'',n_bins, bin_edges.astype('float'), props=props)"
   ]
  },
  {
   "cell_type": "code",
   "execution_count": 38,
   "metadata": {},
   "outputs": [
    {
     "data": {
      "text/plain": [
       "[1.0, 0.7, 0.5, 0.3, 0.1, 0.01, 0.0]"
      ]
     },
     "execution_count": 38,
     "metadata": {},
     "output_type": "execute_result"
    }
   ],
   "source": [
    "quantiles_inv"
   ]
  },
  {
   "cell_type": "code",
   "execution_count": 39,
   "metadata": {},
   "outputs": [
    {
     "name": "stderr",
     "output_type": "stream",
     "text": [
      "Warning in <TH1D::Sumw2>: Sum of squares of weights structure already created\n",
      "Warning in <TH1D::Sumw2>: Sum of squares of weights structure already created\n",
      "Warning in <TH1D::Sumw2>: Sum of squares of weights structure already created\n",
      "Warning in <TH1D::Sumw2>: Sum of squares of weights structure already created\n",
      "Warning in <TH1D::Sumw2>: Sum of squares of weights structure already created\n"
     ]
    }
   ],
   "source": [
    "# other ortho quantile hists\n",
    "hh = []\n",
    "for mjj,c in zip(mjj_vals[template_q_idx+1:], cmap[template_q_idx:]):\n",
    "    props = {\"LineColor\": rt.TColor.GetColor(c), \"MarkerColor\": rt.TColor.GetColor(c), \"LineWidth\": 1, \"MarkerStyle\": marker_sty, \"MarkerSize\": marker_sz}\n",
    "    h = rpu.create_hist(mjj, '', n_bins, bin_edges.astype('float'), props=props)\n",
    "    hh.append(h)"
   ]
  },
  {
   "cell_type": "code",
   "execution_count": 40,
   "metadata": {},
   "outputs": [
    {
     "data": {
      "text/plain": [
       "5"
      ]
     },
     "execution_count": 40,
     "metadata": {},
     "output_type": "execute_result"
    }
   ],
   "source": [
    "len(hh)"
   ]
  },
  {
   "cell_type": "code",
   "execution_count": 41,
   "metadata": {},
   "outputs": [
    {
     "name": "stderr",
     "output_type": "stream",
     "text": [
      "Warning in <TH1D::Sumw2>: Sum of squares of weights structure already created\n",
      "Warning in <TH1D::Sumw2>: Sum of squares of weights structure already created\n",
      "Warning in <TH1D::Sumw2>: Sum of squares of weights structure already created\n",
      "Warning in <TH1D::Sumw2>: Sum of squares of weights structure already created\n",
      "Warning in <TH1D::Sumw2>: Sum of squares of weights structure already created\n"
     ]
    }
   ],
   "source": [
    "# create ratio histograms\n",
    "hr = []\n",
    "for h, c in zip(hh, cmap[template_q_idx:]):\n",
    "    props={\"LineColor\": rt.TColor.GetColor(c), \"MarkerColor\": rt.TColor.GetColor(c), \"Title\": '', \"LineWidth\": 1, \"MarkerStyle\": marker_sty}\n",
    "    r = rpu.create_ratio_hist(h,ht,props=props)\n",
    "    hr.append(r)\n",
    "rpu.set_style(hr[0], props={ \"XTitle\": 'M_{jj} [GeV]', \"YTitle\": \"ratio SIG / BG\"})"
   ]
  },
  {
   "cell_type": "markdown",
   "metadata": {},
   "source": [
    "## draw figure"
   ]
  },
  {
   "cell_type": "code",
   "execution_count": 42,
   "metadata": {},
   "outputs": [],
   "source": [
    "import cmsstyle #mplhep for Python2 cheatsheet\n",
    "c_out, pad1, pad2 = rpu.create_canvas_pads(pad_props={'LeftMargin': 0.13})\n",
    "# legend\n",
    "leg = rpu.create_object(\"TLegend\", 0.62, 0.5, 0.85, 0.78)\n",
    "leg_h = rpu.create_object(\"TLegend\", 0.4, 0.8, 0.95, 0.85) # second legend for header because left align not available\n",
    "rpu.set_style(leg,props={'TextSize': 0.045})\n",
    "rpu.set_style(leg_h,props={'TextSize': 0.045})"
   ]
  },
  {
   "cell_type": "code",
   "execution_count": 43,
   "metadata": {},
   "outputs": [
    {
     "data": {
      "text/plain": [
       "<ROOT.TLegendEntry object (\"TLegendEntry\") at 0x787c8a0>"
      ]
     },
     "execution_count": 43,
     "metadata": {},
     "output_type": "execute_result"
    }
   ],
   "source": [
    "pad1.cd()\n",
    "# draw template histogram\n",
    "ht.Draw('HIST')\n",
    "rpu.set_style(ht.GetYaxis(), props={'TitleSize':0.05, 'LabelSize':0.05, 'TitleOffset':0.95, 'Ndivisions':304})\n",
    "leg.AddEntry(ht, 'q = '+q_str[template_q_idx+1]+'-'+q_str[template_q_idx], 'lep')"
   ]
  },
  {
   "cell_type": "code",
   "execution_count": 44,
   "metadata": {},
   "outputs": [],
   "source": [
    "# draw remaining histograms\n",
    "for h in hh:\n",
    "    h.Draw('pez same')\n",
    "ht.Draw('hist same') # draw once more on top"
   ]
  },
  {
   "cell_type": "code",
   "execution_count": 45,
   "metadata": {},
   "outputs": [],
   "source": [
    "for h, qi, qii in zip(hh, q_str[template_q_idx+2:], q_str[template_q_idx+1:]):\n",
    "    leg.AddEntry(h, 'q = {} - {}'.format(qi,qii), 'lep')\n",
    "\n",
    "leg_h.SetHeader(r'Data: QCD MC + G_{RS}(%.1fTeV,#sigma=%i fb)'%(mX,xsec))\n",
    "leg.Draw()\n",
    "leg_h.Draw()"
   ]
  },
  {
   "cell_type": "code",
   "execution_count": 1,
   "metadata": {},
   "outputs": [
    {
     "ename": "NameError",
     "evalue": "name 'pad2' is not defined",
     "output_type": "error",
     "traceback": [
      "\u001b[0;31m---------------------------------------------------------------------------\u001b[0m",
      "\u001b[0;31mNameError\u001b[0m                                 Traceback (most recent call last)",
      "\u001b[0;32m<ipython-input-1-cc5846b50afe>\u001b[0m in \u001b[0;36m<module>\u001b[0;34m\u001b[0m\n\u001b[0;32m----> 1\u001b[0;31m \u001b[0mpad2\u001b[0m\u001b[0;34m.\u001b[0m\u001b[0mcd\u001b[0m\u001b[0;34m(\u001b[0m\u001b[0;34m)\u001b[0m\u001b[0;34m\u001b[0m\u001b[0m\n\u001b[0m\u001b[1;32m      2\u001b[0m \u001b[0mhr\u001b[0m\u001b[0;34m[\u001b[0m\u001b[0;36m0\u001b[0m\u001b[0;34m]\u001b[0m\u001b[0;34m.\u001b[0m\u001b[0mDraw\u001b[0m\u001b[0;34m(\u001b[0m\u001b[0;34m'pe'\u001b[0m\u001b[0;34m)\u001b[0m\u001b[0;34m\u001b[0m\u001b[0m\n\u001b[1;32m      3\u001b[0m \u001b[0mprops\u001b[0m\u001b[0;34m=\u001b[0m\u001b[0;34m{\u001b[0m\u001b[0;34m'YTitle'\u001b[0m\u001b[0;34m:\u001b[0m\u001b[0;34m'#frac{#epsilon#timesq}{q_{0.9-1.0}}'\u001b[0m\u001b[0;34m,\u001b[0m \u001b[0;34m'XTitle'\u001b[0m\u001b[0;34m:\u001b[0m\u001b[0;34m'M_{jj} (GeV)'\u001b[0m\u001b[0;34m,\u001b[0m \u001b[0;34m'Maximum'\u001b[0m\u001b[0;34m:\u001b[0m\u001b[0;36m1.7\u001b[0m\u001b[0;34m,\u001b[0m \u001b[0;34m'Minimum'\u001b[0m\u001b[0;34m:\u001b[0m\u001b[0;36m0.3\u001b[0m\u001b[0;34m,\u001b[0m \u001b[0;34m'TitleOffset'\u001b[0m\u001b[0;34m:\u001b[0m\u001b[0;36m0.4\u001b[0m\u001b[0;34m}\u001b[0m\u001b[0;34m\u001b[0m\u001b[0m\n\u001b[1;32m      4\u001b[0m \u001b[0mrpu\u001b[0m\u001b[0;34m.\u001b[0m\u001b[0mset_style\u001b[0m\u001b[0;34m(\u001b[0m\u001b[0mhr\u001b[0m\u001b[0;34m[\u001b[0m\u001b[0;36m0\u001b[0m\u001b[0;34m]\u001b[0m\u001b[0;34m,\u001b[0m\u001b[0mprops\u001b[0m\u001b[0;34m=\u001b[0m\u001b[0mprops\u001b[0m\u001b[0;34m)\u001b[0m\u001b[0;34m\u001b[0m\u001b[0m\n\u001b[1;32m      5\u001b[0m \u001b[0mrpu\u001b[0m\u001b[0;34m.\u001b[0m\u001b[0mset_style\u001b[0m\u001b[0;34m(\u001b[0m\u001b[0mhr\u001b[0m\u001b[0;34m[\u001b[0m\u001b[0;36m0\u001b[0m\u001b[0;34m]\u001b[0m\u001b[0;34m.\u001b[0m\u001b[0mGetYaxis\u001b[0m\u001b[0;34m(\u001b[0m\u001b[0;34m)\u001b[0m\u001b[0;34m,\u001b[0m\u001b[0mprops\u001b[0m\u001b[0;34m=\u001b[0m\u001b[0;34m{\u001b[0m\u001b[0;34m'TitleSize'\u001b[0m\u001b[0;34m:\u001b[0m\u001b[0;36m0.12\u001b[0m\u001b[0;34m,\u001b[0m \u001b[0;34m'LabelSize'\u001b[0m\u001b[0;34m:\u001b[0m\u001b[0;36m0.12\u001b[0m\u001b[0;34m,\u001b[0m \u001b[0;34m'Ndivisions'\u001b[0m\u001b[0;34m:\u001b[0m\u001b[0;36m304\u001b[0m\u001b[0;34m,\u001b[0m \u001b[0;34m'TitleOffset'\u001b[0m\u001b[0;34m:\u001b[0m\u001b[0;36m0.95\u001b[0m \u001b[0;34m}\u001b[0m\u001b[0;34m)\u001b[0m\u001b[0;34m\u001b[0m\u001b[0m\n",
      "\u001b[0;31mNameError\u001b[0m: name 'pad2' is not defined"
     ]
    }
   ],
   "source": [
    "pad2.cd()\n",
    "hr[0].Draw('pe')\n",
    "props={'YTitle':'#frac{#epsilon#timesq}{q_{0.9-1.0}}', 'XTitle':'M_{jj} (GeV)', 'Maximum':1.7, 'Minimum':0.3, 'TitleOffset':0.4}\n",
    "rpu.set_style(hr[0],props=props)\n",
    "rpu.set_style(hr[0].GetYaxis(),props={'TitleSize':0.12, 'LabelSize':0.12, 'Ndivisions':304, 'TitleOffset':0.4 })\n",
    "rpu.set_style(hr[0].GetXaxis(),props={'TitleSize':0.12, 'LabelSize':0.12, 'Ndivisions':304, 'TitleOffset':0.95, 'Ndivisions':909, 'TickSize':0.07 })\n",
    "hr[0].GetYaxis().CenterTitle()\n",
    "\n",
    "for r in hr[1:]:\n",
    "    r.Draw('pe same')"
   ]
  },
  {
   "cell_type": "code",
   "execution_count": 47,
   "metadata": {},
   "outputs": [],
   "source": [
    "eff_line = rpu.create_ratio_line(hr[0])\n",
    "eff_line.Draw('same')"
   ]
  },
  {
   "cell_type": "code",
   "execution_count": 48,
   "metadata": {},
   "outputs": [
    {
     "data": {
      "image/png": "[encoded data removed]",
      "text/plain": [
       "<IPython.core.display.Image object>"
      ]
     },
     "metadata": {},
     "output_type": "display_data"
    }
   ],
   "source": [
    "c_out.Draw()"
   ]
  },
  {
   "cell_type": "code",
   "execution_count": 49,
   "metadata": {},
   "outputs": [
    {
     "name": "stderr",
     "output_type": "stream",
     "text": [
      "Info in <TCanvas::Print>: pdf file fig/mjj_ratio_xsec0_poly_dijet_binning_q07_q10_template.pdf has been created\n"
     ]
    }
   ],
   "source": [
    "template_str = ('q'+q_str[template_q_idx+1]+'_q'+q_str[template_q_idx]).replace('.', '')\n",
    "c_out.SaveAs('fig/mjj_ratio_xsec0_{}_{}_binning_{}_template.pdf'.format(qr_model_str, 'dijet' if dijet_bin else 'linspace', template_str))"
   ]
  },
  {
   "cell_type": "code",
   "execution_count": null,
   "metadata": {},
   "outputs": [],
   "source": []
  }
 ],
 "metadata": {
  "kernelspec": {
   "display_name": "Python 3",
   "language": "python",
   "name": "python3"
  },
  "language_info": {
   "codemirror_mode": {
    "name": "ipython",
    "version": 3
   },
   "file_extension": ".py",
   "mimetype": "text/x-python",
   "name": "python",
   "nbconvert_exporter": "python",
   "pygments_lexer": "ipython3",
   "version": "3.6.5"
  }
 },
 "nbformat": 4,
 "nbformat_minor": 2
}
