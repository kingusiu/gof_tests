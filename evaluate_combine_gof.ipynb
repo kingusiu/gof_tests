{
 "cells": [
  {
   "cell_type": "code",
   "execution_count": 4,
   "metadata": {},
   "outputs": [],
   "source": [
    "import numpy as np\n",
    "import uproot\n",
    "import ROOT as rt\n",
    "import matplotlib.pyplot as plt\n",
    "import mplhep as hep"
   ]
  },
  {
   "cell_type": "markdown",
   "metadata": {},
   "source": [
    "## config params"
   ]
  },
  {
   "cell_type": "code",
   "execution_count": 6,
   "metadata": {},
   "outputs": [],
   "source": [
    "qr_run_n, qr_model_str, tag, train_share = 7, 'dense_20pct_train_env', 'PDinj_NA3p5_r7env', 0.2\n",
    "#qr_run_n, qr_model_str, train_share = 8, 'dense_70pct_train', 0.7\n",
    "#qr_run_n, qr_model_str, train_share = 9, 'dense_50pct_train', 0.5\n",
    "\n",
    "# Set binning\n",
    "useDijet = True"
   ]
  },
  {
   "cell_type": "code",
   "execution_count": 7,
   "metadata": {},
   "outputs": [],
   "source": [
    "# binning\n",
    "if useDijet:\n",
    "    bin_edges = np.array([1200, 1255, 1320, 1387, 1457, 1529,\n",
    "                          1604, 1681, 1761, 1844, 1930, 2019, \n",
    "                          2111, 2206, 2305, 2406, 2512, 2620, \n",
    "                          2733, 2849, 2969, 3093, 3221, 3353,\n",
    "                          3490, 3632, 3778, 3928, 4084, 4245, \n",
    "                          4411, 4583, 4760, 4943, 5132, 5327]).astype('float')\n",
    "# Constant binwidth\n",
    "else:\n",
    "    bin_edges = np.array(np.arange(1200.,5500., 100.).tolist()).astype('float') #100 GeV binning. Stop at 5600! Fit fails if going to 6800\n",
    "\n",
    "\n",
    "n_bins = len(bin_edges)-1"
   ]
  },
  {
   "cell_type": "markdown",
   "metadata": {},
   "source": [
    "## read and print combine results"
   ]
  },
  {
   "cell_type": "code",
   "execution_count": 9,
   "metadata": {},
   "outputs": [],
   "source": [
    "# read fit results!!\n",
    "\n",
    "xsecs_sig = [0,20,40,60,80,100]\n",
    "sig_inj_vals = [x//10 for x in xsecs_sig]\n",
    "quantiles = [0.7, 0.5, 0.3, 0.1]\n",
    "tmplt_q = 'q07_q1'\n",
    "\n",
    "gof_exp_quants = {}\n",
    "gof_obs_quants = {}\n",
    "\n",
    "for quant in quantiles:\n",
    "    \n",
    "    gof_exp_xsecs = []\n",
    "    gof_obs_xsecs =[]\n",
    "    \n",
    "    for xs in xsecs_sig:\n",
    "        \n",
    "        q_str = int(quant*100)\n",
    "        prefix = \"q{}_xs{}_{}\".format(q_str,xs,tag)\n",
    "\n",
    "        # read values for observed events\n",
    "        gof_obs_file = uproot.open('higgsCombineRatio_gof_{PREFIX}.GoodnessOfFit.mH120.root'.format(PREFIX=prefix))\n",
    "        gof_obs = gof_obs_file['limit'].arrays('limit')[b'limit'][0] # changing key to byte-string python2 style encoding!!\n",
    "        gof_obs_xsecs.append(gof_obs)\n",
    "        \n",
    "        # read values for expected events\n",
    "        gof_exp_file = uproot.open('higgsCombineRatio_gof_toys_{PREFIX}.GoodnessOfFit.mH120.ALLTOYS.root'.format(PREFIX=prefix))\n",
    "        gof_exp = gof_exp_file['limit'].arrays('limit')[b'limit']\n",
    "        gof_exp_xsecs.append(gof_exp)\n",
    "        \n",
    "    gof_obs_quants[quant] = gof_obs_xsecs    \n",
    "    gof_exp_quants[quant] = gof_exp_xsecs"
   ]
  },
  {
   "cell_type": "code",
   "execution_count": 10,
   "metadata": {},
   "outputs": [],
   "source": [
    "q_str = int(quant*100)\n",
    "prefix = \"q{}_xs{}_{}\".format(q_str,xs,tag)\n",
    "ff = uproot.open('higgsCombineRatio_gof_{PREFIX}.GoodnessOfFit.mH120.root'.format(PREFIX=prefix))\n",
    "obs = ff['limit'].arrays('limit')[b'limit'][0]"
   ]
  },
  {
   "cell_type": "code",
   "execution_count": 11,
   "metadata": {},
   "outputs": [
    {
     "name": "stdout",
     "output_type": "stream",
     "text": [
      "\n",
      "quantile 0.7\n",
      "xsec=0:\n",
      "Obs  = 38.5\n",
      "Exp  = 35.3\n",
      "pval = 10.83\n",
      "xsec=20:\n",
      "Obs  = 38.0\n",
      "Exp  = 35.5\n",
      "pval = 13.00\n",
      "xsec=40:\n",
      "Obs  = 39.1\n",
      "Exp  = 35.7\n",
      "pval = 11.67\n",
      "xsec=60:\n",
      "Obs  = 38.5\n",
      "Exp  = 35.3\n",
      "pval = 11.50\n",
      "xsec=80:\n",
      "Obs  = 38.1\n",
      "Exp  = 35.2\n",
      "pval = 12.33\n",
      "xsec=100:\n",
      "Obs  = 37.5\n",
      "Exp  = 36.0\n",
      "pval = 13.67\n",
      "\n",
      "quantile 0.5\n",
      "xsec=0:\n",
      "Obs  = 26.7\n",
      "Exp  = 34.8\n",
      "pval = 28.50\n",
      "xsec=20:\n",
      "Obs  = 26.1\n",
      "Exp  = 34.7\n",
      "pval = 28.00\n",
      "xsec=40:\n",
      "Obs  = 27.3\n",
      "Exp  = 35.4\n",
      "pval = 28.33\n",
      "xsec=60:\n",
      "Obs  = 27.5\n",
      "Exp  = 33.9\n",
      "pval = 26.00\n",
      "xsec=80:\n",
      "Obs  = 28.5\n",
      "Exp  = 36.0\n",
      "pval = 26.83\n",
      "xsec=100:\n",
      "Obs  = 27.1\n",
      "Exp  = 34.8\n",
      "pval = 28.33\n",
      "\n",
      "quantile 0.3\n",
      "xsec=0:\n",
      "Obs  = 35.3\n",
      "Exp  = 35.6\n",
      "pval = 16.00\n",
      "xsec=20:\n",
      "Obs  = 32.8\n",
      "Exp  = 35.2\n",
      "pval = 19.33\n",
      "xsec=40:\n",
      "Obs  = 31.4\n",
      "Exp  = 35.2\n",
      "pval = 21.67\n",
      "xsec=60:\n",
      "Obs  = 30.2\n",
      "Exp  = 35.2\n",
      "pval = 24.67\n",
      "xsec=80:\n",
      "Obs  = 29.9\n",
      "Exp  = 34.7\n",
      "pval = 24.00\n",
      "xsec=100:\n",
      "Obs  = 29.5\n",
      "Exp  = 35.5\n",
      "pval = 25.83\n",
      "\n",
      "quantile 0.1\n",
      "xsec=0:\n",
      "Obs  = 33.0\n",
      "Exp  = 35.9\n",
      "pval = 21.17\n",
      "xsec=20:\n",
      "Obs  = 32.6\n",
      "Exp  = 34.0\n",
      "pval = 17.00\n",
      "xsec=40:\n",
      "Obs  = 33.0\n",
      "Exp  = 34.1\n",
      "pval = 17.17\n",
      "xsec=60:\n",
      "Obs  = 32.8\n",
      "Exp  = 35.2\n",
      "pval = 19.17\n",
      "xsec=80:\n",
      "Obs  = 37.0\n",
      "Exp  = 35.6\n",
      "pval = 13.67\n",
      "xsec=100:\n",
      "Obs  = 39.8\n",
      "Exp  = 35.7\n",
      "pval = 10.33\n"
     ]
    }
   ],
   "source": [
    "# compute pvalues\n",
    "n_total = len(xsecs_sig)\n",
    "\n",
    "pvals_obs_quants = {}\n",
    "pvals_toys_quants = {}\n",
    "\n",
    "for quant in quantiles:\n",
    "    \n",
    "    print('\\nquantile ' + str(quant))\n",
    "    \n",
    "    gof_exp_quant = gof_exp_quants[quant]\n",
    "    gof_obs_quant = gof_obs_quants[quant]\n",
    "    \n",
    "    pvals_obs_xsecs = []\n",
    "    pvals_toys_xsecs = []\n",
    "\n",
    "    for xs, gof_exp, gof_obs in zip(xsecs_sig, gof_exp_quant, gof_obs_quant):\n",
    "        print(\"xsec={}:\".format(xs) )\n",
    "           \n",
    "       # get p-value from toys\n",
    "        n_extreme = len(gof_exp[gof_exp > gof_obs])\n",
    "        pval_toys = 1.*n_extreme/n_total\n",
    "        pvals_toys_xsecs.append(pval_toys)\n",
    "        # get p-value assuming chi2 dist (may not be valid)\n",
    "        pval = rt.TMath.Prob(gof_obs,n_bins)\n",
    "        pvals_obs_xsecs.append(pval)\n",
    "        \n",
    "        print(\"Obs  = {:.1f}\".format(gof_obs))\n",
    "        print(\"Exp  = {:.1f}\".format(np.mean(gof_exp)))\n",
    "        print(\"pval = {:.2f}\".format(pval_toys))\n",
    "\n",
    "    pvals_obs_quants[quant] = pvals_obs_xsecs    \n",
    "    pvals_toys_quants[quant] = pvals_toys_xsecs"
   ]
  },
  {
   "cell_type": "markdown",
   "metadata": {},
   "source": [
    "## make xsec-injection vs p-value plot"
   ]
  },
  {
   "cell_type": "code",
   "execution_count": 12,
   "metadata": {},
   "outputs": [
    {
     "name": "stdout",
     "output_type": "stream",
     "text": [
      "[10.833 13.    11.667 11.5   12.333 13.667]\n",
      "[28.5   28.    28.333 26.    26.833 28.333]\n",
      "[16.    19.333 21.667 24.667 24.    25.833]\n",
      "[21.167 17.    17.167 19.167 13.667 10.333]\n"
     ]
    },
    {
     "data": {
      "text/plain": [
       "Text(0.5, 1.0, 'dense_20pct_train_env model, 0.7-1.0 template quantile')"
      ]
     },
     "execution_count": 12,
     "metadata": {},
     "output_type": "execute_result"
    },
    {
     "name": "stderr",
     "output_type": "stream",
     "text": [
      "findfont: Font family ['cursive'] not found. Falling back to DejaVu Sans.\n"
     ]
    },
    {
     "data": {
      "image/png": "[encoded data removed]",
      "text/plain": [
       "<Figure size 504x504 with 1 Axes>"
      ]
     },
     "metadata": {
      "needs_background": "light"
     },
     "output_type": "display_data"
    }
   ],
   "source": [
    "import matplotlib as mpl\n",
    "np.set_printoptions(precision=3, suppress=False)\n",
    "q_strs = [str(quant) for quant in quantiles]\n",
    "template_q_idx = 0\n",
    "\n",
    "fig = plt.figure(figsize=(7, 7)) # figsize=(5, 5)\n",
    "# Load CMS style sheet\n",
    "plt.style.use(hep.style.CMS)\n",
    "# define color palett for pvalue plotting\n",
    "palette = ['#1f77b4', '#ff7f0e', '#2ca02c', '#d62728', '#9467bd', '#8c564b', '#e377c2', '#7f7f7f',\n",
    "                    '#bcbd22', '#17becf']    \n",
    "\n",
    "\n",
    "for quant, c in zip(quantiles, palette):\n",
    "    \n",
    "    dat = pvals_toys_quants[quant]\n",
    "        \n",
    "    label = '{}-{} quantile'.format((q_strs+['0.0'])[quantiles.index(quant)+1], (q_strs+['0.0'])[quantiles.index(quant)])\n",
    "    plt.semilogy(xsecs_sig, dat, color=c, label=label)\n",
    "    \n",
    "    print(np.asarray(dat))\n",
    "    \n",
    "plt.legend(loc='best', fontsize=16)\n",
    "plt.xlabel('cross-section [fb]')\n",
    "plt.ylabel('Combine p-value')\n",
    "#plt.ylim(bottom=1e-12, top=1)\n",
    "#plt.xlim(left=0)\n",
    "\n",
    "# set yticks manually\n",
    "#plt.gca().tick_params(direction='in', which='both')\n",
    "#plt.gca().minorticks_on()\n",
    "#locmaj = mpl.ticker.LogLocator(base=10, numticks=15) \n",
    "#plt.gca().yaxis.set_major_locator(locmaj)\n",
    "#locmin = mpl.ticker.LogLocator(base=10.0, subs=(0.2,0.4,0.6,0.8), numticks=15)\n",
    "#plt.gca().yaxis.set_minor_locator(locmin)\n",
    "#plt.gca().yaxis.set_minor_formatter(mpl.ticker.NullFormatter())\n",
    "\n",
    "plt.title('{} model, {}-{} template quantile'.format(qr_model_str,q_strs[template_q_idx],'1.0'), fontsize=18)"
   ]
  },
  {
   "cell_type": "code",
   "execution_count": null,
   "metadata": {},
   "outputs": [],
   "source": []
  }
 ],
 "metadata": {
  "kernelspec": {
   "display_name": "Python 3",
   "language": "python",
   "name": "python3"
  },
  "language_info": {
   "codemirror_mode": {
    "name": "ipython",
    "version": 3
   },
   "file_extension": ".py",
   "mimetype": "text/x-python",
   "name": "python",
   "nbconvert_exporter": "python",
   "pygments_lexer": "ipython3",
   "version": "3.7.6"
  }
 },
 "nbformat": 4,
 "nbformat_minor": 2
}
