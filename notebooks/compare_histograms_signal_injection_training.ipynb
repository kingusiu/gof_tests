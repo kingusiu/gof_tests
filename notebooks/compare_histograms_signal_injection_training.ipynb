{
 "cells": [
  {
   "cell_type": "code",
   "execution_count": 4,
   "metadata": {},
   "outputs": [
    {
     "name": "stdout",
     "output_type": "stream",
     "text": [
      "Welcome to JupyROOT 6.22/00\n"
     ]
    }
   ],
   "source": [
    "import numpy as np\n",
    "import ROOT as rt\n",
    "import root_numpy as rtnp\n",
    "from recordtype import recordtype\n",
    "\n",
    "import gof_tests.src.string_constants as gstco"
   ]
  },
  {
   "cell_type": "code",
   "execution_count": 11,
   "metadata": {},
   "outputs": [],
   "source": [
    "Parameters = recordtype('Parameters','qr_run_n, env_run_n, poly_run_n, quantiles, qcd_sample_id, sig_sample_id')\n",
    "params_x0 = Parameters(qr_run_n=408,\n",
    "                    env_run_n=0,\n",
    "                    poly_run_n=0,\n",
    "                    quantiles=[0.3, 0.5, 0.7, 0.9],\n",
    "                    qcd_sample_id='qcdSigAll', \n",
    "                    sig_sample_id='GtoWW35naReco',)\n",
    "params_x100 = Parameters(qr_run_n=608,\n",
    "                    env_run_n=0,\n",
    "                    poly_run_n=0,\n",
    "                    quantiles=[0.3, 0.5, 0.7, 0.9],\n",
    "                    qcd_sample_id='qcdSigAll', \n",
    "                    sig_sample_id='GtoWW35naReco',)"
   ]
  },
  {
   "cell_type": "code",
   "execution_count": 12,
   "metadata": {},
   "outputs": [],
   "source": [
    "# input paths\n",
    "input_x0 = gstco.get_root_in_data_dir(params_x0)\n",
    "input_x100 = gstco.get_root_in_data_dir(params_x100)"
   ]
  },
  {
   "cell_type": "code",
   "execution_count": null,
   "metadata": {},
   "outputs": [],
   "source": []
  }
 ],
 "metadata": {
  "kernelspec": {
   "display_name": "Python 3",
   "language": "python",
   "name": "python3"
  },
  "language_info": {
   "codemirror_mode": {
    "name": "ipython",
    "version": 3
   },
   "file_extension": ".py",
   "mimetype": "text/x-python",
   "name": "python",
   "nbconvert_exporter": "python",
   "pygments_lexer": "ipython3",
   "version": "3.7.6"
  }
 },
 "nbformat": 4,
 "nbformat_minor": 2
}
